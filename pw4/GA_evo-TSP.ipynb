{
 "cells": [
  {
   "cell_type": "code",
   "execution_count": 1,
   "metadata": {},
   "outputs": [],
   "source": [
    "import random\n",
    "import numpy as np\n",
    "\n",
    "from pyevolve import Crossovers\n",
    "from pyevolve import Consts\n",
    "from pyevolve import G1DList\n",
    "from pyevolve import GSimpleGA\n",
    "from pyevolve import Selectors\n",
    "from pyevolve import Statistics\n",
    "\n",
    "from geopy.distance import vincenty"
   ]
  },
  {
   "cell_type": "code",
   "execution_count": 2,
   "metadata": {},
   "outputs": [],
   "source": [
    "LAT = [16.47, 16.47, 20.09, 22.39, 25.23, 22.00, 20.47, 17.20, 16.30, 14.05, 16.53, 21.52, 19.41, 20.09]\n",
    "LON = [96.10, 94.44, 92.54, 93.37, 97.24, 96.05, 97.02, 96.29, 97.38, 98.12, 97.38, 95.59, 97.13, 94.55]\n",
    "\n",
    "# Fot collecting statistics\n",
    "stats = []\n",
    "\n",
    "coords = []\n",
    "for i in range(len(LAT)):\n",
    "    coords.append((LAT[i], LON[i]))\n",
    "    \n",
    "matrix = {}\n",
    "for i, city1 in enumerate(coords):\n",
    "    for j, city2 in enumerate(coords):\n",
    "        dist = vincenty(city1, city2).km\n",
    "        matrix[i, j] = dist"
   ]
  },
  {
   "cell_type": "code",
   "execution_count": 3,
   "metadata": {},
   "outputs": [],
   "source": [
    "def fitness(chromosome):\n",
    "    score = 0\n",
    "    for i in range(len(chromosome)):\n",
    "        j = (i + 1) % len(chromosome)\n",
    "        score += matrix[chromosome[i], chromosome[j]]\n",
    "    return score"
   ]
  },
  {
   "cell_type": "code",
   "execution_count": 4,
   "metadata": {},
   "outputs": [],
   "source": [
    "def current_best(ga_engine):\n",
    "    stats.append(ga.getStatistics().asTuple())\n",
    "    return False"
   ]
  },
  {
   "cell_type": "code",
   "execution_count": 5,
   "metadata": {},
   "outputs": [],
   "source": [
    "def list_initializator(genome, **args):\n",
    "    cities = [i for i in range(len(coords))]\n",
    "    random.shuffle(cities)\n",
    "    genome.setInternalList(cities)"
   ]
  },
  {
   "cell_type": "code",
   "execution_count": 6,
   "metadata": {},
   "outputs": [],
   "source": [
    "def save_stats(filename):\n",
    "    header = 'rawMax;rawMin;rawAve;rawDev;rawVar;fitMax;fitMin;fitAve'\n",
    "    np.savetxt(filename, stats, '%.2f', delimiter=';', header=header, comments='')"
   ]
  },
  {
   "cell_type": "code",
   "execution_count": 7,
   "metadata": {},
   "outputs": [
    {
     "name": "stdout",
     "output_type": "stream",
     "text": [
      "Gen. 0 (0.00%): Max/Min/Avg Fitness(Raw) [8087.74(8678.98)/5042.62(4298.22)/6739.78(6739.78)]\n",
      "Gen. 10 (10.00%): Max/Min/Avg Fitness(Raw) [5523.70(6833.42)/4201.49(3630.16)/4603.08(4603.08)]\n",
      "Gen. 20 (20.00%): Max/Min/Avg Fitness(Raw) [5275.39(6147.20)/4011.53(3630.16)/4396.15(4396.15)]\n",
      "Gen. 30 (30.00%): Max/Min/Avg Fitness(Raw) [4781.45(6289.69)/3777.75(3386.36)/3984.54(3984.54)]\n",
      "Gen. 40 (40.00%): Max/Min/Avg Fitness(Raw) [5427.97(6524.48)/3991.43(3346.76)/4523.31(4523.31)]\n",
      "Gen. 50 (50.00%): Max/Min/Avg Fitness(Raw) [5546.55(6834.64)/4089.26(3346.76)/4622.12(4622.12)]\n",
      "Gen. 60 (60.00%): Max/Min/Avg Fitness(Raw) [4889.32(7233.73)/3886.74(3346.76)/4074.43(4074.43)]\n",
      "Gen. 70 (70.00%): Max/Min/Avg Fitness(Raw) [5108.21(6501.57)/3911.67(3346.76)/4256.84(4256.84)]\n",
      "Gen. 80 (80.00%): Max/Min/Avg Fitness(Raw) [4855.20(5452.11)/3643.60(3346.76)/4046.00(4046.00)]\n",
      "Gen. 90 (90.00%): Max/Min/Avg Fitness(Raw) [5008.37(6283.75)/3846.54(3346.76)/4173.64(4173.64)]\n",
      "Gen. 100 (100.00%): Max/Min/Avg Fitness(Raw) [5354.99(6111.58)/3858.65(3346.76)/4462.49(4462.49)]\n",
      "Total time elapsed: 1.008 seconds.\n",
      "- GenomeBase\n",
      "\tScore:\t\t\t 3346.761974\n",
      "\tFitness:\t\t 3858.651537\n",
      "\n",
      "\tParams:\t\t {}\n",
      "\n",
      "\tSlot [Evaluator] (Count: 1)\n",
      "\t\tName: fitness - Weight: 0.50\n",
      "\tSlot [Initializator] (Count: 1)\n",
      "\t\tName: list_initializator - Weight: 0.50\n",
      "\tSlot [Mutator] (Count: 1)\n",
      "\t\tName: G1DListMutatorSwap - Weight: 0.50\n",
      "\t\tDoc:  The mutator of G1DList, Swap Mutator\n",
      "\n",
      "   .. note:: this mutator is :term:`Data Type Independent`\n",
      "\n",
      "   \n",
      "\tSlot [Crossover] (Count: 1)\n",
      "\t\tName: G1DListCrossoverEdge - Weight: 0.50\n",
      "\t\tDoc:  THe Edge Recombination crossover for G1DList (widely used for TSP problem)\n",
      "\n",
      "   See more information in the `Edge Recombination Operator <http://en.wikipedia.org/wiki/Edge_recombination_operator>`_\n",
      "   Wikipedia entry.\n",
      "   \n",
      "\n",
      "- G1DList\n",
      "\tList size:\t 14\n",
      "\tList:\t\t [2, 13, 1, 0, 9, 8, 10, 7, 12, 6, 11, 5, 4, 3]\n",
      "\n",
      "\n"
     ]
    }
   ],
   "source": [
    "# Chromosome representation\n",
    "\n",
    "# genome = bitstring\n",
    "genome = G1DList.G1DList(len(coords))\n",
    "genome.initializator.set(list_initializator)\n",
    "\n",
    "# how to compute the fitness\n",
    "genome.evaluator.set(fitness)\n",
    "\n",
    "genome.crossover.set(Crossovers.G1DListCrossoverEdge)\n",
    "\n",
    "# GA initialisation\n",
    "ga = GSimpleGA.GSimpleGA(genome)\n",
    "ga.setPopulationSize(100)\n",
    "ga.setMutationRate(0.01)\n",
    "ga.setCrossoverRate(0.9)\n",
    "ga.setElitism(True)\n",
    "ga.setMinimax(Consts.minimaxType[\"minimize\"])\n",
    "\n",
    "# Number of generations\n",
    "ga.setGenerations(100)\n",
    "\n",
    "# In case we want to monitor the evolution process\n",
    "# execute the function current_best every generation\n",
    "ga.stepCallback.set(current_best)\n",
    "\n",
    "ga.evolve(freq_stats=10)\n",
    "\n",
    "# Final best solution\n",
    "print(ga.bestIndividual())\n",
    "\n",
    "save_stats('stats/edge_crossover.csv')"
   ]
  }
 ],
 "metadata": {
  "kernelspec": {
   "display_name": "Python 3",
   "language": "python",
   "name": "python3"
  },
  "language_info": {
   "codemirror_mode": {
    "name": "ipython",
    "version": 3
   },
   "file_extension": ".py",
   "mimetype": "text/x-python",
   "name": "python",
   "nbconvert_exporter": "python",
   "pygments_lexer": "ipython3",
   "version": "3.6.5"
  }
 },
 "nbformat": 4,
 "nbformat_minor": 1
}
