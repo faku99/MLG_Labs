{
 "cells": [
  {
   "cell_type": "code",
   "execution_count": 1,
   "metadata": {},
   "outputs": [],
   "source": [
    "from pyevolve import G1DBinaryString\n",
    "from pyevolve import GSimpleGA\n",
    "from pyevolve import Selectors\n",
    "from pyevolve import Statistics"
   ]
  },
  {
   "cell_type": "code",
   "execution_count": 6,
   "metadata": {},
   "outputs": [],
   "source": [
    "def fitness(chromosome):\n",
    "    score = 0\n",
    "    values = []\n",
    "    # iterate over the chromosome\n",
    "    # Idée : faire un mapping entre les chemins parcourus et un tableau qui contient les valeurs (genre chromosome[i] = distance[i])\n",
    "    #  Ensuite, si on peut inverser et chercher le minimum alors on cherche direct le minimum\n",
    "    #           sinon on cherche le max pour 1/somme(chemins) et zou\n",
    "    for i in range(0,len(chromosome),4):\n",
    "        value = chromosome[i]+chromosome[i+1]*2+chromosome[i+2]*4+chromosome[i+3]*8\n",
    "        if (value == 0):\n",
    "            value = 16\n",
    "        values.append(value)\n",
    "    score = (values[0]*values[1]*values[2]*values[3])/(values[4]*values[5]*values[6]*values[7])\n",
    "    return score"
   ]
  },
  {
   "cell_type": "code",
   "execution_count": 7,
   "metadata": {},
   "outputs": [
    {
     "name": "stdout",
     "output_type": "stream",
     "text": [
      "Gen. 0 (0.00%): Max/Min/Avg Fitness(Raw) [8.05(180.00)/6.66(0.01)/6.71(6.71)]\n",
      "Gen. 10 (10.00%): Max/Min/Avg Fitness(Raw) [2424.98(8640.00)/1900.55(51.20)/2020.82(2020.82)]\n",
      "Gen. 20 (20.00%): Max/Min/Avg Fitness(Raw) [14520.86(30720.00)/10533.87(46.22)/12100.71(12100.71)]\n",
      "Gen. 30 (30.00%): Max/Min/Avg Fitness(Raw) [30747.22(30720.00)/0.00(120.00)/25061.89(25061.89)]\n",
      "Gen. 40 (40.00%): Max/Min/Avg Fitness(Raw) [30822.60(61440.00)/22270.95(1920.00)/25685.50(25685.50)]\n",
      "Gen. 50 (50.00%): Max/Min/Avg Fitness(Raw) [61612.29(61440.00)/0.00(768.00)/50323.16(50323.16)]\n",
      "Gen. 60 (60.00%): Max/Min/Avg Fitness(Raw) [61594.56(61440.00)/0.00(853.33)/52148.91(52148.91)]\n",
      "Gen. 70 (70.00%): Max/Min/Avg Fitness(Raw) [61601.70(61440.00)/0.00(426.67)/44671.52(44671.52)]\n",
      "Gen. 80 (80.00%): Max/Min/Avg Fitness(Raw) [61522.02(61440.00)/0.00(224.00)/45032.05(45032.05)]\n",
      "Gen. 90 (90.00%): Max/Min/Avg Fitness(Raw) [61552.72(61440.00)/0.00(426.67)/48689.49(48689.49)]\n",
      "Gen. 100 (100.00%): Max/Min/Avg Fitness(Raw) [61538.81(61440.00)/0.00(480.00)/51033.00(51033.00)]\n",
      "Total time elapsed: 0.540 seconds.\n",
      "- GenomeBase\n",
      "\tScore:\t\t\t 61440.000000\n",
      "\tFitness:\t\t 61538.814365\n",
      "\n",
      "\tParams:\t\t {}\n",
      "\n",
      "\tSlot [Evaluator] (Count: 1)\n",
      "\t\tName: fitness - Weight: 0.50\n",
      "\tSlot [Initializator] (Count: 1)\n",
      "\t\tName: G1DBinaryStringInitializator - Weight: 0.50\n",
      "\t\tDoc:  1D Binary String initializator \n",
      "\tSlot [Mutator] (Count: 1)\n",
      "\t\tName: G1DBinaryStringMutatorFlip - Weight: 0.50\n",
      "\t\tDoc:  The classical flip mutator for binary strings \n",
      "\tSlot [Crossover] (Count: 1)\n",
      "\t\tName: G1DBinaryStringXSinglePoint - Weight: 0.50\n",
      "\t\tDoc:  The crossover of 1D Binary String, Single Point\n",
      "\n",
      "   .. warning:: You can't use this crossover method for binary strings with length of 1.\n",
      "\n",
      "   \n",
      "\n",
      "- G1DBinaryString\n",
      "\tString length:\t 32\n",
      "\tString:\t\t 11110000000000001000100010001000\n",
      "\n",
      "\n"
     ]
    }
   ],
   "source": [
    "# Chromosome representation\n",
    "\n",
    "# genome = bitstring\n",
    "genome = G1DBinaryString.G1DBinaryString(32)\n",
    "\n",
    "# how to compute the fitness\n",
    "genome.evaluator.set(fitness)\n",
    "\n",
    "# GA initialisation\n",
    "ga = GSimpleGA.GSimpleGA(genome, seed=999)\n",
    "ga.setPopulationSize(100)\n",
    "ga.setMutationRate(0.01)\n",
    "ga.setCrossoverRate(0.9)\n",
    "ga.selector.set(Selectors.GTournamentSelector)\n",
    "ga.setElitism(True)\n",
    "\n",
    "# Number of generations\n",
    "ga.setGenerations(100)\n",
    "\n",
    "# In case we want to monitor the evolution process\n",
    "# execute the function current_best every generation\n",
    "#ga.stepCallback.set(current_best)\n",
    "\n",
    "ga.evolve(freq_stats=10)\n",
    "\n",
    "# Final best solution\n",
    "print(ga.bestIndividual())"
   ]
  }
 ],
 "metadata": {
  "kernelspec": {
   "display_name": "Python 2",
   "language": "python",
   "name": "python2"
  },
  "language_info": {
   "codemirror_mode": {
    "name": "ipython",
    "version": 3
   },
   "file_extension": ".py",
   "mimetype": "text/x-python",
   "name": "python",
   "nbconvert_exporter": "python",
   "pygments_lexer": "ipython3",
   "version": "3.6.4"
  }
 },
 "nbformat": 4,
 "nbformat_minor": 1
}
