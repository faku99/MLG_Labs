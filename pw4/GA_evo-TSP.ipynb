{
 "cells": [
  {
   "cell_type": "code",
   "execution_count": 1,
   "metadata": {},
   "outputs": [],
   "source": [
    "import random\n",
    "import numpy as np\n",
    "\n",
    "from pyevolve import Crossovers\n",
    "from pyevolve import Consts\n",
    "from pyevolve import G1DList\n",
    "from pyevolve import GSimpleGA\n",
    "from pyevolve import Selectors\n",
    "from pyevolve import Statistics\n",
    "\n",
    "from geopy.distance import vincenty"
   ]
  },
  {
   "cell_type": "code",
   "execution_count": 2,
   "metadata": {},
   "outputs": [],
   "source": [
    "LAT = [16.47, 16.47, 20.09, 22.39, 25.23, 22.00, 20.47, 17.20, 16.30, 14.05, 16.53, 21.52, 19.41, 20.09]\n",
    "LON = [96.10, 94.44, 92.54, 93.37, 97.24, 96.05, 97.02, 96.29, 97.38, 98.12, 97.38, 95.59, 97.13, 94.55]\n",
    "\n",
    "# Fot collecting statistics\n",
    "stats = []\n",
    "\n",
    "coords = []\n",
    "for i in range(len(LAT)):\n",
    "    coords.append((LAT[i], LON[i]))\n",
    "    \n",
    "matrix = {}\n",
    "for i, city1 in enumerate(coords):\n",
    "    for j, city2 in enumerate(coords):\n",
    "        dist = vincenty(city1, city2).km\n",
    "        matrix[i, j] = dist"
   ]
  },
  {
   "cell_type": "code",
   "execution_count": 3,
   "metadata": {},
   "outputs": [],
   "source": [
    "def fitness(chromosome):\n",
    "    score = 0\n",
    "    for i in range(len(chromosome)):\n",
    "        j = (i + 1) % len(chromosome)\n",
    "        score += matrix[chromosome[i], chromosome[j]]\n",
    "    return score"
   ]
  },
  {
   "cell_type": "code",
   "execution_count": 4,
   "metadata": {},
   "outputs": [],
   "source": [
    "def current_best(ga_engine):\n",
    "    stats.append(ga.getStatistics().asTuple())\n",
    "    return False"
   ]
  },
  {
   "cell_type": "code",
   "execution_count": 5,
   "metadata": {},
   "outputs": [],
   "source": [
    "def list_initializator(genome, **args):\n",
    "    cities = [i for i in range(len(coords))]\n",
    "    random.shuffle(cities)\n",
    "    genome.setInternalList(cities)"
   ]
  },
  {
   "cell_type": "code",
   "execution_count": 6,
   "metadata": {},
   "outputs": [],
   "source": [
    "def save_stats(filename):\n",
    "    header = 'rawMax;rawMin;rawAve;rawDev;rawVar;fitMax;fitMin;fitAve'\n",
    "    np.savetxt(filename, stats, '%.2f', delimiter=';', header=header, comments='')"
   ]
  },
  {
   "cell_type": "code",
   "execution_count": 12,
   "metadata": {},
   "outputs": [
    {
     "name": "stdout",
     "output_type": "stream",
     "text": [
      "Gen. 0 (0.00%): Max/Min/Avg Fitness(Raw) [8013.80(8301.26)/4782.55(4374.56)/6678.17(6678.17)]\n",
      "Gen. 50 (16.67%): Max/Min/Avg Fitness(Raw) [5115.11(6055.07)/3827.01(3346.76)/4262.59(4262.59)]\n",
      "Gen. 100 (33.33%): Max/Min/Avg Fitness(Raw) [5018.98(6099.94)/3817.90(3346.76)/4182.48(4182.48)]\n",
      "Gen. 150 (50.00%): Max/Min/Avg Fitness(Raw) [5148.75(6051.56)/3830.67(3346.76)/4290.63(4290.63)]\n",
      "Gen. 200 (66.67%): Max/Min/Avg Fitness(Raw) [5244.68(6313.54)/3909.97(3346.76)/4370.57(4370.57)]\n",
      "Gen. 250 (83.33%): Max/Min/Avg Fitness(Raw) [5079.00(6871.06)/3948.34(3346.76)/4232.50(4232.50)]\n",
      "Gen. 300 (100.00%): Max/Min/Avg Fitness(Raw) [5154.29(6523.68)/3929.61(3346.76)/4295.24(4295.24)]\n",
      "Total time elapsed: 2.281 seconds.\n",
      "- GenomeBase\n",
      "\tScore:\t\t\t 3346.761974\n",
      "\tFitness:\t\t 3929.608979\n",
      "\n",
      "\tParams:\t\t {}\n",
      "\n",
      "\tSlot [Evaluator] (Count: 1)\n",
      "\t\tName: fitness - Weight: 0.50\n",
      "\tSlot [Initializator] (Count: 1)\n",
      "\t\tName: list_initializator - Weight: 0.50\n",
      "\tSlot [Mutator] (Count: 1)\n",
      "\t\tName: G1DListMutatorSwap - Weight: 0.50\n",
      "\t\tDoc:  The mutator of G1DList, Swap Mutator\n",
      "\n",
      "   .. note:: this mutator is :term:`Data Type Independent`\n",
      "\n",
      "   \n",
      "\tSlot [Crossover] (Count: 1)\n",
      "\t\tName: G1DListCrossoverEdge - Weight: 0.50\n",
      "\t\tDoc:  THe Edge Recombination crossover for G1DList (widely used for TSP problem)\n",
      "\n",
      "   See more information in the `Edge Recombination Operator <http://en.wikipedia.org/wiki/Edge_recombination_operator>`_\n",
      "   Wikipedia entry.\n",
      "   \n",
      "\n",
      "- G1DList\n",
      "\tList size:\t 14\n",
      "\tList:\t\t [0, 1, 13, 2, 3, 4, 5, 11, 6, 12, 7, 10, 8, 9]\n",
      "\n",
      "\n"
     ]
    }
   ],
   "source": [
    "# Chromosome representation\n",
    "\n",
    "# genome = bitstring\n",
    "genome = G1DList.G1DList(len(coords))\n",
    "genome.initializator.set(list_initializator)\n",
    "\n",
    "# how to compute the fitness\n",
    "genome.evaluator.set(fitness)\n",
    "\n",
    "genome.crossover.set(Crossovers.G1DListCrossoverEdge)\n",
    "\n",
    "# GA initialisation\n",
    "ga = GSimpleGA.GSimpleGA(genome)\n",
    "ga.setPopulationSize(100)\n",
    "ga.setMutationRate(0.01)\n",
    "ga.setCrossoverRate(0.9)\n",
    "ga.setElitism(True)\n",
    "ga.setMinimax(Consts.minimaxType[\"minimize\"])\n",
    "\n",
    "# Number of generations\n",
    "ga.setGenerations(300)\n",
    "\n",
    "# In case we want to monitor the evolution process\n",
    "# execute the function current_best every generation\n",
    "ga.stepCallback.set(current_best)\n",
    "\n",
    "ga.evolve(freq_stats=50)\n",
    "\n",
    "# Final best solution\n",
    "print(ga.bestIndividual())\n",
    "\n",
    "save_stats('stats/edge_crossover.csv')\n",
    "\n",
    "# [1, 13, 2, 3, 4, 5, 11, 6, 12, 7, 10, 8, 9, 0]"
   ]
  }
 ],
 "metadata": {
  "kernelspec": {
   "display_name": "Python 3",
   "language": "python",
   "name": "python3"
  },
  "language_info": {
   "codemirror_mode": {
    "name": "ipython",
    "version": 3
   },
   "file_extension": ".py",
   "mimetype": "text/x-python",
   "name": "python",
   "nbconvert_exporter": "python",
   "pygments_lexer": "ipython3",
   "version": "3.6.5"
  }
 },
 "nbformat": 4,
 "nbformat_minor": 1
}
